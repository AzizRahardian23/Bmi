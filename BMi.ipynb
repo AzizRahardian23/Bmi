{
 "cells": [
  {
   "cell_type": "code",
   "execution_count": 1,
   "metadata": {},
   "outputs": [
    {
     "name": "stdout",
     "output_type": "stream",
     "text": [
      "masukan nama : Aziz\n",
      "masukan tinggi :155\n",
      "masukan berat :40\n",
      "BMI kamu  16.649323621227886  Kekurangan\n"
     ]
    }
   ],
   "source": [
    "nama=input(\"masukan nama : \")\n",
    "tinggicm = float(input(\"masukan tinggi :\"))\n",
    "berat = float(input(\"masukan berat :\"))\n",
    "tinggi = tinggicm * 0.01\n",
    "bmi = berat / (tinggi ** 2)\n",
    "if bmi <= 18.5:\n",
    "        print('BMI kamu ', bmi,' Kekurangan')\n",
    "elif bmi > 18.5 and bmi < 24.9:\n",
    "        print('Your BMI is', bmi,' Normal')\n",
    "else:\n",
    "        print('your BMI is', bmi,' Berlebihan.')\n",
    "        \n"
   ]
  },
  {
   "cell_type": "code",
   "execution_count": null,
   "metadata": {},
   "outputs": [],
   "source": []
  }
 ],
 "metadata": {
  "kernelspec": {
   "display_name": "Python 3",
   "language": "python",
   "name": "python3"
  },
  "language_info": {
   "codemirror_mode": {
    "name": "ipython",
    "version": 3
   },
   "file_extension": ".py",
   "mimetype": "text/x-python",
   "name": "python",
   "nbconvert_exporter": "python",
   "pygments_lexer": "ipython3",
   "version": "3.7.1"
  }
 },
 "nbformat": 4,
 "nbformat_minor": 2
}
